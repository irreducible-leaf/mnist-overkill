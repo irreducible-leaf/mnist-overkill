{
 "cells": [
  {
   "cell_type": "markdown",
   "id": "92d99d46-7572-44d8-9e09-8b04f2911bad",
   "metadata": {},
   "source": [
    "# Train a very simple model"
   ]
  },
  {
   "cell_type": "code",
   "execution_count": 1,
   "id": "c77219b2-9a8d-4654-8b19-75f42440be14",
   "metadata": {},
   "outputs": [],
   "source": [
    "DATA_TRAIN_PATH = 'data/train'\n",
    "DATA_TEST_PATH = 'data/test'\n",
    "LABELS_TRAIN_PATH = 'data/labels_10k.csv'\n",
    "LABELS_TEST_PATH = 'data/labels_test.csv'"
   ]
  },
  {
   "cell_type": "code",
   "execution_count": 2,
   "id": "210991cb-1aa5-46e5-b2e3-b19674d740bb",
   "metadata": {},
   "outputs": [],
   "source": [
    "import pandas as pd\n",
    "import numpy as np\n",
    "import os"
   ]
  },
  {
   "cell_type": "markdown",
   "id": "012ef81d-5b52-428b-8b18-2970dd29d50c",
   "metadata": {},
   "source": [
    "### Load data from disk"
   ]
  },
  {
   "cell_type": "code",
   "execution_count": 3,
   "id": "9c45a917-3d5b-4ac1-9f72-4b8e60759d87",
   "metadata": {},
   "outputs": [
    {
     "name": "stdout",
     "output_type": "stream",
     "text": [
      "      Unnamed: 0  label\n",
      "0              0      5\n",
      "1              1      0\n",
      "2              2      4\n",
      "3              3      1\n",
      "4              4      9\n",
      "...          ...    ...\n",
      "9995        9995      5\n",
      "9996        9996      8\n",
      "9997        9997      6\n",
      "9998        9998      9\n",
      "9999        9999      7\n",
      "\n",
      "[10000 rows x 2 columns]\n"
     ]
    }
   ],
   "source": [
    "df_labels_train = pd.read_csv(LABELS_TRAIN_PATH)\n",
    "df_labels_test = pd.read_csv(LABELS_TEST_PATH)\n",
    "print(df_labels_train)"
   ]
  },
  {
   "cell_type": "code",
   "execution_count": 4,
   "id": "ee2a957f-cd47-4c14-80e9-e4952ee732b5",
   "metadata": {},
   "outputs": [],
   "source": [
    "def load_data(df_labels, dirpath):\n",
    "    data = []\n",
    "    for i, row in df_labels.iterrows():\n",
    "        loadpath = os.path.join(dirpath, f'{i}.npy')\n",
    "        img = np.load(loadpath)\n",
    "        data.append(img)\n",
    "    return np.array(data)\n",
    "\n",
    "data_train = load_data(df_labels_train, DATA_TRAIN_PATH)\n",
    "data_test = load_data(df_labels_test, DATA_TEST_PATH)"
   ]
  },
  {
   "cell_type": "code",
   "execution_count": 5,
   "id": "57b1e460-3eca-4c4e-a184-13ecb6dbc30c",
   "metadata": {},
   "outputs": [
    {
     "name": "stdout",
     "output_type": "stream",
     "text": [
      "(10000, 28, 28) (10000, 28, 28)\n"
     ]
    }
   ],
   "source": [
    "print(data_train.shape, data_test.shape)"
   ]
  },
  {
   "cell_type": "markdown",
   "id": "a37dbaf3-23c3-4cb4-b42c-5fb1f5d55f2d",
   "metadata": {},
   "source": [
    "### Make a train/val split"
   ]
  },
  {
   "cell_type": "code",
   "execution_count": 6,
   "id": "2af6bdea-766a-4484-bb00-fc8cc61fdcb2",
   "metadata": {},
   "outputs": [
    {
     "name": "stdout",
     "output_type": "stream",
     "text": [
      "Training set shape: (8000, 28, 28)\n",
      "Validation set shape: (2000, 28, 28)\n"
     ]
    }
   ],
   "source": [
    "from sklearn.model_selection import train_test_split\n",
    "\n",
    "labels_train_array = df_labels_train['label'].values\n",
    "\n",
    "# Split the data into training and validation sets\n",
    "X_train, X_val, y_train, y_val = train_test_split(data_train, labels_train_array, test_size=0.2, random_state=42)\n",
    "\n",
    "# Print the shapes of the resulting sets\n",
    "print(\"Training set shape:\", X_train.shape)\n",
    "print(\"Validation set shape:\", X_val.shape)"
   ]
  },
  {
   "cell_type": "markdown",
   "id": "02cbf7d9-8e79-417f-adcb-e33bf6799b9d",
   "metadata": {},
   "source": [
    "### Look at a few examples"
   ]
  },
  {
   "cell_type": "code",
   "execution_count": 7,
   "id": "a7cad06a-6038-47b8-94ec-36bd3a353b1d",
   "metadata": {},
   "outputs": [
    {
     "data": {
      "image/png": "[encoded data removed]",
      "text/plain": [
       "<Figure size 1000x400 with 10 Axes>"
      ]
     },
     "metadata": {},
     "output_type": "display_data"
    }
   ],
   "source": [
    "import matplotlib.pyplot as plt\n",
    "\n",
    "# Define the number of random examples to display\n",
    "num_examples = 5\n",
    "\n",
    "# Randomly select examples and corresponding labels from the training set\n",
    "train_indices = np.random.choice(len(X_train), num_examples, replace=False)\n",
    "train_examples = X_train[train_indices]\n",
    "train_labels = y_train[train_indices]\n",
    "\n",
    "# Randomly select examples and corresponding labels from the validation set\n",
    "val_indices = np.random.choice(len(X_val), num_examples, replace=False)\n",
    "val_examples = X_val[val_indices]\n",
    "val_labels = y_val[val_indices]\n",
    "\n",
    "# Plot the random examples from the training set\n",
    "plt.figure(figsize=(10, 4))\n",
    "for i in range(num_examples):\n",
    "    plt.subplot(2, num_examples, i + 1)\n",
    "    plt.imshow(train_examples[i], cmap='gray')\n",
    "    plt.axis('off')\n",
    "    plt.title('Train Example {}\\nLabel: {}'.format(i + 1, train_labels[i]))\n",
    "\n",
    "# Plot the random examples from the validation set\n",
    "for i in range(num_examples):\n",
    "    plt.subplot(2, num_examples, num_examples + i + 1)\n",
    "    plt.imshow(val_examples[i], cmap='gray')\n",
    "    plt.axis('off')\n",
    "    plt.title('Val Example {}\\nLabel: {}'.format(i + 1, val_labels[i]))\n",
    "\n",
    "plt.tight_layout()\n",
    "plt.show()\n"
   ]
  },
  {
   "cell_type": "markdown",
   "id": "2acec28f-a3be-4a99-bc1d-79d94617ff8a",
   "metadata": {},
   "source": [
    "### Get the data ready for pytorch"
   ]
  },
  {
   "cell_type": "code",
   "execution_count": 8,
   "id": "a1bc339f-d8ea-49f7-8f11-39319e7674f9",
   "metadata": {},
   "outputs": [],
   "source": [
    "import torch\n",
    "import torch.nn as nn\n",
    "import torch.optim as optim\n",
    "from torch.utils.data import DataLoader, TensorDataset\n",
    "\n",
    "# Convert numpy arrays to PyTorch tensors\n",
    "X_train_tensor = torch.from_numpy(X_train).float()\n",
    "X_val_tensor = torch.from_numpy(X_val).float()\n",
    "y_train_tensor = torch.from_numpy(y_train)\n",
    "y_val_tensor = torch.from_numpy(y_val)\n",
    "\n",
    "# Flatten input data\n",
    "X_train_tensor = X_train_tensor.view(-1, 28 * 28)\n",
    "X_val_tensor = X_val_tensor.view(-1, 28 * 28)\n",
    "\n",
    "# Normalize input data\n",
    "X_train_tensor = X_train_tensor / 255.0\n",
    "X_val_tensor = X_val_tensor / 255.0\n",
    "\n",
    "# Create DataLoader for training and validation sets\n",
    "train_dataset = TensorDataset(X_train_tensor, y_train_tensor)\n",
    "val_dataset = TensorDataset(X_val_tensor, y_val_tensor)\n",
    "\n",
    "train_loader = DataLoader(train_dataset, batch_size=64, shuffle=True)\n",
    "val_loader = DataLoader(val_dataset, batch_size=64)"
   ]
  },
  {
   "cell_type": "markdown",
   "id": "4ed88040-6813-4436-9ae8-4e449f90cc0c",
   "metadata": {},
   "source": [
    "### Define a model and training approach"
   ]
  },
  {
   "cell_type": "code",
   "execution_count": 14,
   "id": "4f05e5b5-2712-42c7-9efa-b29c221e5e66",
   "metadata": {},
   "outputs": [],
   "source": [
    "# Initialize model\n",
    "# from small_mlp import SmallMLP\n",
    "from models.small_mlp import SmallMLP\n",
    "\n",
    "input_size = 28 * 28\n",
    "hidden_size1 = 32\n",
    "hidden_size2 = 64\n",
    "num_classes = 10\n",
    "model = SmallMLP(input_size, hidden_size1, hidden_size2, num_classes)\n",
    "\n",
    "# Initialize loss function and optimizer\n",
    "criterion = nn.CrossEntropyLoss()\n",
    "optimizer = optim.Adam(model.parameters(), lr=0.001)  # You can adjust the learning rate as needed"
   ]
  },
  {
   "cell_type": "markdown",
   "id": "f0ac6d83-4d87-4869-ab54-7550409a0d08",
   "metadata": {},
   "source": [
    "### Run training"
   ]
  },
  {
   "cell_type": "code",
   "execution_count": 11,
   "id": "e45da696-ec07-41e7-9c3d-be3283ca497b",
   "metadata": {},
   "outputs": [],
   "source": [
    "def train(model, criterion, optimizer, train_loader, val_loader, num_epochs=10):\n",
    "    for epoch in range(num_epochs):\n",
    "        model.train()  # Set the model to training mode\n",
    "        running_loss = 0.0\n",
    "        correct_predictions = 0\n",
    "        total_predictions = 0\n",
    "        \n",
    "        # Training loop\n",
    "        for inputs, labels in train_loader:\n",
    "            optimizer.zero_grad()  # Zero the gradients\n",
    "\n",
    "            # Forward pass\n",
    "            outputs = model(inputs)\n",
    "            loss = criterion(outputs, labels)\n",
    "            \n",
    "            # Backward pass and optimize\n",
    "            loss.backward()\n",
    "            optimizer.step()\n",
    "\n",
    "            # Calculate training statistics\n",
    "            running_loss += loss.item() * inputs.size(0)\n",
    "            _, predicted = torch.max(outputs, 1)\n",
    "            correct_predictions += (predicted == labels).sum().item()\n",
    "            total_predictions += labels.size(0)\n",
    "\n",
    "        # Calculate average training loss and accuracy\n",
    "        epoch_loss = running_loss / len(train_loader.dataset)\n",
    "        epoch_acc = correct_predictions / total_predictions\n",
    "\n",
    "        # Evaluate the model on validation data\n",
    "        val_loss, val_acc = evaluate(model, criterion, val_loader)\n",
    "\n",
    "        # Print training and validation statistics\n",
    "        print(f'Epoch [{epoch+1}/{num_epochs}], '\n",
    "              f'Training Loss: {epoch_loss:.4f}, '\n",
    "              f'Training Accuracy: {epoch_acc:.4f}, '\n",
    "              f'Validation Loss: {val_loss:.4f}, '\n",
    "              f'Validation Accuracy: {val_acc:.4f}')\n",
    "\n",
    "def evaluate(model, criterion, data_loader):\n",
    "    model.eval()  # Set the model to evaluation mode\n",
    "    running_loss = 0.0\n",
    "    correct_predictions = 0\n",
    "    total_predictions = 0\n",
    "    \n",
    "    with torch.no_grad():  # Disable gradient calculation\n",
    "        for inputs, labels in data_loader:\n",
    "            outputs = model(inputs)\n",
    "            loss = criterion(outputs, labels)\n",
    "            \n",
    "            # Calculate evaluation statistics\n",
    "            running_loss += loss.item() * inputs.size(0)\n",
    "            _, predicted = torch.max(outputs, 1)\n",
    "            correct_predictions += (predicted == labels).sum().item()\n",
    "            total_predictions += labels.size(0)\n",
    "\n",
    "    # Calculate average loss and accuracy\n",
    "    avg_loss = running_loss / len(data_loader.dataset)\n",
    "    accuracy = correct_predictions / total_predictions\n",
    "\n",
    "    return avg_loss, accuracy"
   ]
  },
  {
   "cell_type": "code",
   "execution_count": 12,
   "id": "c22574c1-7d50-4af6-b613-90706bec4719",
   "metadata": {},
   "outputs": [
    {
     "name": "stdout",
     "output_type": "stream",
     "text": [
      "Epoch [1/10], Training Loss: 1.1757, Training Accuracy: 0.6973, Validation Loss: 0.5084, Validation Accuracy: 0.8615\n",
      "Epoch [2/10], Training Loss: 0.4249, Training Accuracy: 0.8800, Validation Loss: 0.3802, Validation Accuracy: 0.9000\n",
      "Epoch [3/10], Training Loss: 0.3340, Training Accuracy: 0.9058, Validation Loss: 0.3205, Validation Accuracy: 0.9120\n",
      "Epoch [4/10], Training Loss: 0.2850, Training Accuracy: 0.9197, Validation Loss: 0.2960, Validation Accuracy: 0.9180\n",
      "Epoch [5/10], Training Loss: 0.2561, Training Accuracy: 0.9266, Validation Loss: 0.2696, Validation Accuracy: 0.9245\n",
      "Epoch [6/10], Training Loss: 0.2322, Training Accuracy: 0.9327, Validation Loss: 0.2614, Validation Accuracy: 0.9285\n",
      "Epoch [7/10], Training Loss: 0.2152, Training Accuracy: 0.9384, Validation Loss: 0.2596, Validation Accuracy: 0.9315\n",
      "Epoch [8/10], Training Loss: 0.2012, Training Accuracy: 0.9410, Validation Loss: 0.2466, Validation Accuracy: 0.9295\n",
      "Epoch [9/10], Training Loss: 0.1859, Training Accuracy: 0.9453, Validation Loss: 0.2408, Validation Accuracy: 0.9370\n",
      "Epoch [10/10], Training Loss: 0.1726, Training Accuracy: 0.9496, Validation Loss: 0.2508, Validation Accuracy: 0.9320\n"
     ]
    }
   ],
   "source": [
    "num_epochs = 10\n",
    "train(model, criterion, optimizer, train_loader, val_loader, num_epochs)"
   ]
  },
  {
   "cell_type": "markdown",
   "id": "9d2a9f1b-a7d4-4191-8783-d7446e58b876",
   "metadata": {},
   "source": [
    "### Save the model for later use"
   ]
  },
  {
   "cell_type": "code",
   "execution_count": 13,
   "id": "b170c630-b694-4a48-9a12-9bda2c7ecbba",
   "metadata": {},
   "outputs": [
    {
     "name": "stdout",
     "output_type": "stream",
     "text": [
      "Model saved successfully at: models/small_mlp_model.pth\n"
     ]
    }
   ],
   "source": [
    "# Define the file path to save the model\n",
    "model_path = 'models/small_mlp_model.pth'\n",
    "\n",
    "# Save the entire model\n",
    "torch.save({\n",
    "    'model_state_dict': model.state_dict(),  # Save model weights\n",
    "    'optimizer_state_dict': optimizer.state_dict(),  # Save optimizer state\n",
    "    'input_size': input_size,  # Save input size\n",
    "    'hidden_size1': hidden_size1,  # Save hidden layer 1 size\n",
    "    'hidden_size2': hidden_size2,  # Save hidden layer 2 size\n",
    "    'num_classes': num_classes,  # Save number of classes\n",
    "    'model_architecture': model  # Save model architecture\n",
    "}, model_path)\n",
    "\n",
    "# torch.save(model, model_path)\n",
    "\n",
    "print(\"Model saved successfully at:\", model_path)\n"
   ]
  },
  {
   "cell_type": "code",
   "execution_count": null,
   "id": "0f66f172-f7dc-45fb-a364-4d8b5ad33ef4",
   "metadata": {},
   "outputs": [],
   "source": []
  }
 ],
 "metadata": {
  "kernelspec": {
   "display_name": "Overkill Environment",
   "language": "python",
   "name": "overkillenv"
  },
  "language_info": {
   "codemirror_mode": {
    "name": "ipython",
    "version": 3
   },
   "file_extension": ".py",
   "mimetype": "text/x-python",
   "name": "python",
   "nbconvert_exporter": "python",
   "pygments_lexer": "ipython3",
   "version": "3.10.14"
  }
 },
 "nbformat": 4,
 "nbformat_minor": 5
}
