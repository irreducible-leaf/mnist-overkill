{
 "cells": [
  {
   "cell_type": "markdown",
   "id": "92d99d46-7572-44d8-9e09-8b04f2911bad",
   "metadata": {},
   "source": [
    "# Train a very simple model"
   ]
  },
  {
   "cell_type": "code",
   "execution_count": 1,
   "id": "c77219b2-9a8d-4654-8b19-75f42440be14",
   "metadata": {},
   "outputs": [],
   "source": [
    "DATA_TRAIN_PATH = 'data/train'\n",
    "DATA_TEST_PATH = 'data/test'\n",
    "LABELS_TRAIN_PATH = 'data/labels_10k.csv'\n",
    "LABELS_TEST_PATH = 'data/labels_test.csv'"
   ]
  },
  {
   "cell_type": "code",
   "execution_count": 5,
   "id": "210991cb-1aa5-46e5-b2e3-b19674d740bb",
   "metadata": {},
   "outputs": [],
   "source": [
    "import pandas as pd\n",
    "import numpy as np\n",
    "import os"
   ]
  },
  {
   "cell_type": "markdown",
   "id": "012ef81d-5b52-428b-8b18-2970dd29d50c",
   "metadata": {},
   "source": [
    "### Load data from disk"
   ]
  },
  {
   "cell_type": "code",
   "execution_count": 7,
   "id": "9c45a917-3d5b-4ac1-9f72-4b8e60759d87",
   "metadata": {},
   "outputs": [
    {
     "name": "stdout",
     "output_type": "stream",
     "text": [
      "      Unnamed: 0  label\n",
      "0              0      5\n",
      "1              1      0\n",
      "2              2      4\n",
      "3              3      1\n",
      "4              4      9\n",
      "...          ...    ...\n",
      "9995        9995      5\n",
      "9996        9996      8\n",
      "9997        9997      6\n",
      "9998        9998      9\n",
      "9999        9999      7\n",
      "\n",
      "[10000 rows x 2 columns]\n"
     ]
    }
   ],
   "source": [
    "df_labels_train = pd.read_csv(LABELS_TRAIN_PATH)\n",
    "df_labels_test = pd.read_csv(LABELS_TEST_PATH)\n",
    "print(df_labels_train)"
   ]
  },
  {
   "cell_type": "code",
   "execution_count": 11,
   "id": "ee2a957f-cd47-4c14-80e9-e4952ee732b5",
   "metadata": {},
   "outputs": [],
   "source": [
    "def load_data(df_labels, dirpath):\n",
    "    data = []\n",
    "    for i, row in df_labels.iterrows():\n",
    "        loadpath = os.path.join(dirpath, f'{i}.npy')\n",
    "        img = np.load(loadpath)\n",
    "        data.append(img)\n",
    "    return np.array(data)\n",
    "\n",
    "data_train = load_data(df_labels_train, DATA_TRAIN_PATH)\n",
    "data_test = load_data(df_labels_test, DATA_TEST_PATH)"
   ]
  },
  {
   "cell_type": "code",
   "execution_count": 13,
   "id": "57b1e460-3eca-4c4e-a184-13ecb6dbc30c",
   "metadata": {},
   "outputs": [
    {
     "name": "stdout",
     "output_type": "stream",
     "text": [
      "(10000, 28, 28) (10000, 28, 28)\n"
     ]
    }
   ],
   "source": [
    "print(data_train.shape, data_test.shape)"
   ]
  },
  {
   "cell_type": "markdown",
   "id": "a37dbaf3-23c3-4cb4-b42c-5fb1f5d55f2d",
   "metadata": {},
   "source": [
    "### Make a train/val split"
   ]
  },
  {
   "cell_type": "code",
   "execution_count": 23,
   "id": "2af6bdea-766a-4484-bb00-fc8cc61fdcb2",
   "metadata": {},
   "outputs": [
    {
     "name": "stdout",
     "output_type": "stream",
     "text": [
      "Training set shape: (8000, 28, 28)\n",
      "Validation set shape: (2000, 28, 28)\n"
     ]
    }
   ],
   "source": [
    "from sklearn.model_selection import train_test_split\n",
    "\n",
    "labels_train_array = labels_train['label'].values\n",
    "\n",
    "# Split the data into training and validation sets\n",
    "X_train, X_val, y_train, y_val = train_test_split(data_train, labels_train_array, test_size=0.2, random_state=42)\n",
    "\n",
    "# Print the shapes of the resulting sets\n",
    "print(\"Training set shape:\", X_train.shape)\n",
    "print(\"Validation set shape:\", X_val.shape)"
   ]
  },
  {
   "cell_type": "markdown",
   "id": "02cbf7d9-8e79-417f-adcb-e33bf6799b9d",
   "metadata": {},
   "source": [
    "### Look at a few examples"
   ]
  },
  {
   "cell_type": "code",
   "execution_count": 24,
   "id": "a7cad06a-6038-47b8-94ec-36bd3a353b1d",
   "metadata": {},
   "outputs": [
    {
     "data": {
      "image/png": "[encoded data removed]",
      "text/plain": [
       "<Figure size 1000x400 with 10 Axes>"
      ]
     },
     "metadata": {},
     "output_type": "display_data"
    }
   ],
   "source": [
    "import matplotlib.pyplot as plt\n",
    "\n",
    "# Define the number of random examples to display\n",
    "num_examples = 5\n",
    "\n",
    "# Randomly select examples and corresponding labels from the training set\n",
    "train_indices = np.random.choice(len(X_train), num_examples, replace=False)\n",
    "train_examples = X_train[train_indices]\n",
    "train_labels = y_train[train_indices]\n",
    "\n",
    "# Randomly select examples and corresponding labels from the validation set\n",
    "val_indices = np.random.choice(len(X_val), num_examples, replace=False)\n",
    "val_examples = X_val[val_indices]\n",
    "val_labels = y_val[val_indices]\n",
    "\n",
    "# Plot the random examples from the training set\n",
    "plt.figure(figsize=(10, 4))\n",
    "for i in range(num_examples):\n",
    "    plt.subplot(2, num_examples, i + 1)\n",
    "    plt.imshow(train_examples[i], cmap='gray')\n",
    "    plt.axis('off')\n",
    "    plt.title('Train Example {}\\nLabel: {}'.format(i + 1, train_labels[i]))\n",
    "\n",
    "# Plot the random examples from the validation set\n",
    "for i in range(num_examples):\n",
    "    plt.subplot(2, num_examples, num_examples + i + 1)\n",
    "    plt.imshow(val_examples[i], cmap='gray')\n",
    "    plt.axis('off')\n",
    "    plt.title('Val Example {}\\nLabel: {}'.format(i + 1, val_labels[i]))\n",
    "\n",
    "plt.tight_layout()\n",
    "plt.show()\n"
   ]
  },
  {
   "cell_type": "markdown",
   "id": "2acec28f-a3be-4a99-bc1d-79d94617ff8a",
   "metadata": {},
   "source": [
    "### Get the data ready for pytorch"
   ]
  },
  {
   "cell_type": "code",
   "execution_count": 27,
   "id": "a1bc339f-d8ea-49f7-8f11-39319e7674f9",
   "metadata": {},
   "outputs": [],
   "source": [
    "import torch\n",
    "import torch.nn as nn\n",
    "import torch.optim as optim\n",
    "from torch.utils.data import DataLoader, TensorDataset\n",
    "\n",
    "# Convert numpy arrays to PyTorch tensors\n",
    "X_train_tensor = torch.from_numpy(X_train).float()\n",
    "X_val_tensor = torch.from_numpy(X_val).float()\n",
    "y_train_tensor = torch.from_numpy(y_train)\n",
    "y_val_tensor = torch.from_numpy(y_val)\n",
    "\n",
    "# Create DataLoader for training and validation sets\n",
    "train_dataset = TensorDataset(X_train_tensor, y_train_tensor)\n",
    "val_dataset = TensorDataset(X_val_tensor, y_val_tensor)\n",
    "\n",
    "train_loader = DataLoader(train_dataset, batch_size=64, shuffle=True)\n",
    "val_loader = DataLoader(val_dataset, batch_size=64)"
   ]
  },
  {
   "cell_type": "markdown",
   "id": "4ed88040-6813-4436-9ae8-4e449f90cc0c",
   "metadata": {},
   "source": [
    "### Define a model and training approach"
   ]
  },
  {
   "cell_type": "code",
   "execution_count": 28,
   "id": "1013f8fb-5f2b-4ba5-aa5f-3be5ac7a1d7f",
   "metadata": {},
   "outputs": [],
   "source": [
    "# Define logistic regression model\n",
    "class LogisticRegression(nn.Module):\n",
    "    def __init__(self, input_size, num_classes):\n",
    "        super(LogisticRegression, self).__init__()\n",
    "        self.linear = nn.Linear(input_size, num_classes)\n",
    "\n",
    "    def forward(self, x):\n",
    "        out = self.linear(x)\n",
    "        return out"
   ]
  },
  {
   "cell_type": "code",
   "execution_count": 29,
   "id": "4f05e5b5-2712-42c7-9efa-b29c221e5e66",
   "metadata": {},
   "outputs": [],
   "source": [
    "# Initialize model, loss function, and optimizer\n",
    "input_size = 28 * 28  # Assuming images are 28x28 pixels\n",
    "num_classes = 10  # Assuming 10 classes (e.g., digits 0-9)\n",
    "model = LogisticRegression(input_size, num_classes)\n",
    "criterion = nn.CrossEntropyLoss()\n",
    "optimizer = optim.SGD(model.parameters(), lr=0.01)"
   ]
  },
  {
   "cell_type": "markdown",
   "id": "f0ac6d83-4d87-4869-ab54-7550409a0d08",
   "metadata": {},
   "source": [
    "### Run training"
   ]
  },
  {
   "cell_type": "code",
   "execution_count": 33,
   "id": "0c407c21-edbf-4261-b18f-91fb85413ee7",
   "metadata": {},
   "outputs": [
    {
     "name": "stdout",
     "output_type": "stream",
     "text": [
      "Initial Loss: 161.9934, Initial Accuracy: 0.8905\n",
      "Epoch [1/50], Loss: 191.4065, Accuracy: 0.8745\n",
      "Epoch [2/50], Loss: 149.1341, Accuracy: 0.9080\n",
      "Epoch [3/50], Loss: 149.8011, Accuracy: 0.9035\n",
      "Epoch [4/50], Loss: 160.6976, Accuracy: 0.8970\n",
      "Epoch [5/50], Loss: 153.1508, Accuracy: 0.8960\n",
      "Epoch [6/50], Loss: 155.8469, Accuracy: 0.9010\n",
      "Epoch [7/50], Loss: 343.6019, Accuracy: 0.8085\n",
      "Epoch [8/50], Loss: 175.8249, Accuracy: 0.8885\n",
      "Epoch [9/50], Loss: 168.4834, Accuracy: 0.8915\n",
      "Epoch [10/50], Loss: 159.8853, Accuracy: 0.8970\n",
      "Epoch [11/50], Loss: 150.0447, Accuracy: 0.9020\n",
      "Epoch [12/50], Loss: 204.5606, Accuracy: 0.8720\n",
      "Epoch [13/50], Loss: 174.4497, Accuracy: 0.8900\n",
      "Epoch [14/50], Loss: 193.1221, Accuracy: 0.8855\n",
      "Epoch [15/50], Loss: 192.4699, Accuracy: 0.8710\n",
      "Epoch [16/50], Loss: 187.4526, Accuracy: 0.8825\n",
      "Epoch [17/50], Loss: 165.6248, Accuracy: 0.8975\n",
      "Epoch [18/50], Loss: 167.4751, Accuracy: 0.8940\n",
      "Epoch [19/50], Loss: 155.9328, Accuracy: 0.9050\n",
      "Epoch [20/50], Loss: 174.7864, Accuracy: 0.8820\n",
      "Epoch [21/50], Loss: 172.9856, Accuracy: 0.8895\n",
      "Epoch [22/50], Loss: 169.3776, Accuracy: 0.8905\n",
      "Epoch [23/50], Loss: 154.3652, Accuracy: 0.8975\n",
      "Epoch [24/50], Loss: 181.9147, Accuracy: 0.8865\n",
      "Epoch [25/50], Loss: 168.1899, Accuracy: 0.8930\n",
      "Epoch [26/50], Loss: 201.8496, Accuracy: 0.8740\n",
      "Epoch [27/50], Loss: 173.3720, Accuracy: 0.8955\n",
      "Epoch [28/50], Loss: 194.0706, Accuracy: 0.8760\n",
      "Epoch [29/50], Loss: 166.0502, Accuracy: 0.9000\n",
      "Epoch [30/50], Loss: 169.5833, Accuracy: 0.8910\n",
      "Epoch [31/50], Loss: 185.1487, Accuracy: 0.8760\n",
      "Epoch [32/50], Loss: 160.0681, Accuracy: 0.8955\n",
      "Epoch [33/50], Loss: 167.1190, Accuracy: 0.8970\n",
      "Epoch [34/50], Loss: 165.8012, Accuracy: 0.8880\n",
      "Epoch [35/50], Loss: 187.0661, Accuracy: 0.8820\n",
      "Epoch [36/50], Loss: 182.6647, Accuracy: 0.8820\n",
      "Epoch [37/50], Loss: 184.0112, Accuracy: 0.8735\n",
      "Epoch [38/50], Loss: 183.1392, Accuracy: 0.8795\n",
      "Epoch [39/50], Loss: 175.6865, Accuracy: 0.8850\n",
      "Epoch [40/50], Loss: 186.0917, Accuracy: 0.8880\n",
      "Epoch [41/50], Loss: 174.5897, Accuracy: 0.8920\n",
      "Epoch [42/50], Loss: 168.4839, Accuracy: 0.9000\n",
      "Epoch [43/50], Loss: 168.3309, Accuracy: 0.8965\n",
      "Epoch [44/50], Loss: 199.2992, Accuracy: 0.8805\n",
      "Epoch [45/50], Loss: 175.6969, Accuracy: 0.8940\n",
      "Epoch [46/50], Loss: 180.9095, Accuracy: 0.8990\n",
      "Epoch [47/50], Loss: 177.0642, Accuracy: 0.8910\n",
      "Epoch [48/50], Loss: 222.1792, Accuracy: 0.8705\n",
      "Epoch [49/50], Loss: 181.8784, Accuracy: 0.8855\n",
      "Epoch [50/50], Loss: 179.6107, Accuracy: 0.8930\n"
     ]
    }
   ],
   "source": [
    "# Print initial loss and accuracy\n",
    "model.eval()\n",
    "with torch.no_grad():\n",
    "    total_correct = 0\n",
    "    total_samples = 0\n",
    "    total_loss = 0.0\n",
    "    for inputs, labels in val_loader:\n",
    "        inputs = inputs.view(-1, input_size)\n",
    "        outputs = model(inputs)\n",
    "        loss = criterion(outputs, labels)\n",
    "        total_loss += loss.item()\n",
    "        _, predicted = torch.max(outputs, 1)\n",
    "        total_correct += (predicted == labels).sum().item()\n",
    "        total_samples += labels.size(0)\n",
    "\n",
    "    initial_accuracy = total_correct / total_samples\n",
    "    initial_loss = total_loss / len(val_loader)\n",
    "    print(f'Initial Loss: {initial_loss:.4f}, Initial Accuracy: {initial_accuracy:.4f}')\n",
    "\n",
    "# Training loop\n",
    "num_epochs = 50\n",
    "for epoch in range(num_epochs):\n",
    "    model.train()\n",
    "    for inputs, labels in train_loader:\n",
    "        inputs = inputs.view(-1, input_size)\n",
    "        outputs = model(inputs)\n",
    "        loss = criterion(outputs, labels)\n",
    "        optimizer.zero_grad()\n",
    "        loss.backward()\n",
    "        optimizer.step()\n",
    "\n",
    "    # Validation loop\n",
    "    model.eval()\n",
    "    with torch.no_grad():\n",
    "        total_correct = 0\n",
    "        total_samples = 0\n",
    "        total_loss = 0.0\n",
    "        for inputs, labels in val_loader:\n",
    "            inputs = inputs.view(-1, input_size)\n",
    "            outputs = model(inputs)\n",
    "            loss = criterion(outputs, labels)\n",
    "            total_loss += loss.item()\n",
    "            _, predicted = torch.max(outputs, 1)\n",
    "            total_correct += (predicted == labels).sum().item()\n",
    "            total_samples += labels.size(0)\n",
    "\n",
    "        accuracy = total_correct / total_samples\n",
    "        print(f'Epoch [{epoch+1}/{num_epochs}], Loss: {total_loss/len(val_loader):.4f}, Accuracy: {accuracy:.4f}')\n"
   ]
  },
  {
   "cell_type": "markdown",
   "id": "9d2a9f1b-a7d4-4191-8783-d7446e58b876",
   "metadata": {},
   "source": [
    "### Save the model for later use"
   ]
  },
  {
   "cell_type": "code",
   "execution_count": 34,
   "id": "b170c630-b694-4a48-9a12-9bda2c7ecbba",
   "metadata": {},
   "outputs": [
    {
     "name": "stdout",
     "output_type": "stream",
     "text": [
      "Model saved successfully at: models/logistic_regression_model.pth\n"
     ]
    }
   ],
   "source": [
    "model_path = 'models/logistic_regression_model.pth'\n",
    "\n",
    "# Save the model's state dictionary and other information\n",
    "torch.save({\n",
    "    'model_state_dict': model.state_dict(),\n",
    "    'optimizer_state_dict': optimizer.state_dict(),\n",
    "    'input_size': input_size,\n",
    "    'num_classes': num_classes,\n",
    "}, model_path)\n",
    "\n",
    "print(\"Model saved successfully at:\", model_path)\n"
   ]
  },
  {
   "cell_type": "code",
   "execution_count": null,
   "id": "0f66f172-f7dc-45fb-a364-4d8b5ad33ef4",
   "metadata": {},
   "outputs": [],
   "source": []
  }
 ],
 "metadata": {
  "kernelspec": {
   "display_name": "Overkill Environment",
   "language": "python",
   "name": "overkillenv"
  },
  "language_info": {
   "codemirror_mode": {
    "name": "ipython",
    "version": 3
   },
   "file_extension": ".py",
   "mimetype": "text/x-python",
   "name": "python",
   "nbconvert_exporter": "python",
   "pygments_lexer": "ipython3",
   "version": "3.10.14"
  }
 },
 "nbformat": 4,
 "nbformat_minor": 5
}
